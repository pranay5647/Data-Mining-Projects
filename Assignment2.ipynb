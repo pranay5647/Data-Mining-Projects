{
 "cells": [
  {
   "cell_type": "markdown",
   "id": "32ac69f6",
   "metadata": {},
   "source": [
    "# <div align=\"center\">Data Mining Assignment 2 - Pranay Dhareshwar - 230435164</div>"
   ]
  },
  {
   "cell_type": "markdown",
   "id": "9079f4be",
   "metadata": {},
   "source": [
    "## Questions 1(a) to 1(f) are pen-and-paper exercises (brief answers and justifications are expected). In all responses, please show your workings (equations, justifications). Please try to use an editor instead of taking pictures or scanning actual paper. Pen and paper here refer to not using any programming. "
   ]
  },
  {
   "cell_type": "markdown",
   "id": "0abd3204",
   "metadata": {},
   "source": [
    "### a) What is the advantage of using the Apriori algorithm in comparison with computing the support of every subset of an itemset in order to find the frequent itemsets in a transaction dataset? "
   ]
  },
  {
   "cell_type": "markdown",
   "id": "438bcb69",
   "metadata": {},
   "source": [
    "The Apriori algorithm offers an efficient way to identify frequent itemsets. It achieves this by leveraging the Apriori property and employing a two-step process: join and prune. The algorithm is scalable and well-suited for handling large transaction datasets.\n",
    "\n",
    "The Apriori property states that if a set of items occurs frequently, then every potential subset containing at least one item must also occur frequently. This insight significantly reduces the search space and the need to examine each potential subset independently.\n",
    "\n",
    "The algorithm focuses on subsets that are expected to occur frequently. It uses an iterative approach, exploring k-itemsets before advancing to (k + 1)-itemsets. This structured process reduces redundancy in the search.\n",
    "\n",
    "The algorithm's iterative design consists of join and pruning steps. During the join step, joinable pairs of itemsets from the (k-1)-itemsets are combined to form suitable candidates. In the subsequent pruning step, rare candidates are eliminated. This approach reduces the number of possible frequent itemsets and avoids the laborious support computation for each subgroup.\n",
    "\n",
    "The Apriori property ensures that only specific combinations need exploration, significantly reducing the search space. The algorithm efficiently identifies frequent itemsets by navigating the search space through the Apriori property and the iterative join and prune steps. This approach is much more effective than independently inspecting the frequency of each group of items in a dataset to find commonly occurring groups in transactions."
   ]
  },
  {
   "cell_type": "markdown",
   "id": "a7c8a3c6",
   "metadata": {},
   "source": [
    "### b) Let $L_1$ denote the set of frequent 1-itemsets. For $k \\geq 2$, why must every frequent k-itemset be a superset of an itemset in $L_1$?\n"
   ]
  },
  {
   "cell_type": "markdown",
   "id": "a0b96cbb",
   "metadata": {},
   "source": [
    "The Apriori algorithm utilises a set of frequent 1-itemsets, denoted as $L_1$. For k≥2, the algorithm requires every frequent k-itemset to be a superset of an itemset in $L_1$. This necessity is rooted in the Apriori property, which states that all non-empty subsets of a frequent itemset must also be frequent.\n",
    "\n",
    "To understand this property, let us consider a frequent k-itemset, B. According to the Apriori property, every subset of B must be frequent if B is frequent. Let A be a subset of B with k−1 elements. If B is frequent, then A must also be frequent.\n",
    "\n",
    "Therefore, every frequent k-itemset (B) must contain a frequent (k-1)-itemset (A). This relationship is essential in constructing the set of frequent k-itemsets (Lk), as it ensures that frequent (k-1)-itemsets from Lk-1 are considered when identifying frequent itemsets of size k. This interconnectedness simplifies and streamlines the process of systematically identifying frequent itemsets in the Apriori algorithm."
   ]
  },
  {
   "cell_type": "markdown",
   "id": "a7bf47a1",
   "metadata": {},
   "source": [
    "### c) Let $L_2 = \\{\\{1,2\\},\\{1,4\\},\\{2,3\\},\\{2,4\\},\\{3,5\\}\\}$ . Compute the set of candidates $C_3$ that is obtained by joining every pair of joinable itemsets from $L_2$."
   ]
  },
  {
   "cell_type": "markdown",
   "id": "4e430890",
   "metadata": {},
   "source": [
    "To compute the set of candidates \\( C_3 \\) from the given set $L_2$, we need to join every pair of joinable itemsets from \\( L_2 \\). Two itemsets from $L_2$ are joinable if they share all but the last item.\n",
    "\n",
    "The set $L_2$ is given as: \\(\\{\\{1,2\\}, \\{1,4\\}, \\{2,3\\}, \\{2,4\\}, \\{3,5\\}\\}\\).\n",
    "\n",
    "Let's go through the process of joining these itemsets:\n",
    "\n",
    "1. Join \\(\\{1,2\\}\\) and \\(\\{1,4\\}\\): These are joinable as they share the first item (1). The joined itemset is \\(\\{1,2,4\\}\\).\n",
    "2. Join \\(\\{1,2\\}\\) with other itemsets: There are no other itemsets to join with \\(\\{1,2\\}\\) that share the first item.\n",
    "3. Join \\(\\{1,4\\}\\) with other itemsets: There are no other itemsets to join with \\(\\{1,4\\}\\) that share the first item.\n",
    "4. Join \\(\\{2,3\\}\\) and \\(\\{2,4\\}\\): These are joinable as they share the first item (2). The joined itemset is \\(\\{2,3,4\\}\\).\n",
    "5. Join \\(\\{2,3\\}\\) with other itemsets: There are no other itemsets to join with \\(\\{2,3\\}\\) that share the first item.\n",
    "6. Join \\(\\{2,4\\}\\) with other itemsets: There are no other itemsets to join with \\(\\{2,4\\}\\) that share the first item.\n",
    "7. Join \\(\\{3,5\\}\\) with other itemsets: There are no other itemsets to join with \\(\\{3,5\\}\\) that share the first item.\n",
    "\n",
    "As a result, \\{1,2,4\\} is the candidate $C_3$ that is obtained by connecting each pair of joinable itemsets from $L_2$. \\{2,3,4\\} is not a suitable choice. It has three 2-item subsets: \\{2,3\\}, \\{2,4\\}, and \\{3,4\\. Since \\{3,4\\} does not belong to $L_2$, it does not follow the Apriori Property. As a result, we must take \\{2,3,4\\} out of C3."
   ]
  },
  {
   "cell_type": "markdown",
   "id": "db3c40bd",
   "metadata": {},
   "source": [
    "### d) Let $S_1$ denote the support of the association rule: $ \\{boarding \\ pass, passport\\} \\rightarrow \\{flight\\} $. Let $S_2$ denote the support of the association rule: $ \\{boarding \\ pass\\} \\rightarrow \\{flight\\} $. What is the relationship between $S_1$ and $S_2$?"
   ]
  },
  {
   "cell_type": "markdown",
   "id": "51502cf5",
   "metadata": {},
   "source": [
    "In the framework of association rules, the relationship between $S_1$ and $S_2$ is as follows:\n",
    "\n",
    "The association rule $\\{boarding\\ pass, passport\\} \\rightarrow \\{flight\\}$ is represented by $S_1$.\n",
    "The association rule $\\{boarding \\ pass\\} \\rightarrow \\{flight\\}$ is represented by $S_2$.\n",
    "\n",
    "Broadly speaking:\n",
    "\n",
    "The support for the association rule where a passport and boarding pass are present is denoted by $S_1$, suggesting a more precise condition.\n",
    "In contrast to $S_1$, $S_2$ represents the support for the association rule where there is simply a boarding pass.\n",
    "\n",
    "The more particular rule $S_1$ is predicted to occur less frequently than the less specific rule $S_2$, so the relationship dictates that $S_1$ should be less than or equal to $S_2$.\n",
    "\n",
    "$S_1$ <= $S_2$ \n"
   ]
  },
  {
   "cell_type": "markdown",
   "id": "28ba0536",
   "metadata": {},
   "source": [
    "### e) What is the support of the rule: $ \\{\\} \\rightarrow \\{Eggs\\} $ in the transaction dataset below shown in Figure 1?"
   ]
  },
  {
   "cell_type": "markdown",
   "id": "71b84d2f",
   "metadata": {},
   "source": [
    "We must count the number of transactions in which the itemset $\\{Eggs\\}$ is present in order to ascertain the support of the rule $\\{\\} \\rightarrow \\{Eggs\\}$ in the given transaction dataset. The rule basically looks for the existence of the consequent, $\\{Eggs\\}$, in every transaction because its antecedent is an empty set.\n",
    "\n",
    "Now let's examine the given transactions:\n",
    "\n",
    "1. Transaction 1: ['Milk', 'Onion', 'Nutmeg', 'Kidney Beans', 'Eggs', 'Yogurt']\n",
    "2. Transaction 2: ['Dill', 'Onion', 'Nutmeg', 'Kidney Beans', 'Eggs', 'Yogurt']\n",
    "3. Transaction 3: ['Milk', 'Apple', 'Kidney Beans', 'Eggs']\n",
    "4. Transaction 4: ['Milk', 'Unicorn', 'Corn', 'Kidney Beans', 'Yogurt']\n",
    "5. Transaction 5: ['Corn', 'Onion', 'Onion', 'Kidney Beans', 'Ice Cream', 'Eggs']\n",
    "\n",
    "Transactions 1, 2, 3, and 5 all involve the itemset $\\{Eggs\\}$. Consequently, since the rule $\\{\\} \\rightarrow \\{Eggs\\}$ occurs in four of the dataset's five transactions, its support is 4/5 or 0.80.   "
   ]
  },
  {
   "cell_type": "markdown",
   "id": "7da6a7fe",
   "metadata": {},
   "source": [
    "### f) In the transaction dataset shown in Figure 1, what is the maximum length of a frequent itemset for a support threshold of 0.2? "
   ]
  },
  {
   "cell_type": "markdown",
   "id": "596fa3ca",
   "metadata": {},
   "source": [
    "To satisfy a threshold of 0.2, an itemset must appear in at least 20% of all transactions. Given that there are five transactions in total, an itemset needs to be present in just one transaction to meet this 20% threshold. As for the maximum length of an itemset in this context, it is determined by the transaction containing the greatest number of items, which, in this case, is a transaction comprising 6 items."
   ]
  },
  {
   "cell_type": "markdown",
   "id": "5ab2f017",
   "metadata": {},
   "source": [
    "## Q2) For your answers to the assignment, please include your workings (e.g. equations, code) when this is relevant to the question. Questions 2a & 2b are pen and paper exercises. Question 2c can be addressed either on paper or using code. Question 2d is a coding exercise."
   ]
  },
  {
   "cell_type": "markdown",
   "id": "2e9b8197",
   "metadata": {},
   "source": [
    "### a) For a system designed to prevent identity theft in online transactions, we are focusing on identifying unusual transaction patterns. Propose 2 possible contextual attributes and 2 possible behavioural attributes that could be integrated into this system's algorithm. Provide a rationale for classifying each attribute as either contextual or behavioural."
   ]
  },
  {
   "cell_type": "markdown",
   "id": "49f14eba",
   "metadata": {},
   "source": [
    "**Contextual Attributes:**\n",
    "\n",
    "1. **Type of Device:** \n",
    "\n",
    "    - **Justification:** Contextual information is the kind of gadget utilised for the transaction. For example, if a user abruptly moves to a new and unfamiliar device for transactions when they usually use their laptop, this could be a sign of a security issue.\n",
    "\n",
    "2. **IP Address:** \n",
    "\n",
    "    - **Justification:** Contextual information can be obtained by observing the IP address linked to a transaction. An abrupt shift in IP address, particularly from one region to another, could be a sign of identity theft or unwanted access.\n",
    "\n",
    "\n",
    "**Behavioral Attributes:**\n",
    "\n",
    "1. **Rate of Transactions:**\n",
    "\n",
    "    - **Justification:** It is possible to identify odd behaviour by keeping track of the average number of transactions a user completes in a given period. An abrupt transaction spike or a protracted period of inactivity may indicate potential fraudulent activity.\n",
    "\n",
    "2. **Difference in Transaction Amount:**\n",
    "\n",
    "    - **Justification:** A behavioural attribute is when a user's transaction quantities deviate from their usual spending pattern. Spending patterns that deviate considerably from the norm, such as notably more significant or more minor transactions, may be signs of fraud.\n",
    "\n",
    "\n",
    "Including these behavioural and contextual characteristics into the system's algorithm makes an all-encompassing method of identifying anomalous transaction patterns and improving identity theft prevention possible.\n",
    "\n",
    "The system may take several measures upon identifying anomalous patterns in the environmental and behavioural variables. For example, it might ask for multi-factor authentication to confirm the user's identity, block their account temporarily, or send them an SMS or email notifying them of suspicious conduct. The system may also notify the financial institution's fraud department, and they may look into the situation and take additional action if needed."
   ]
  },
  {
   "cell_type": "markdown",
   "id": "15a1c432",
   "metadata": {},
   "source": [
    "### b) Assume that you are provided with the [University of Wisconsin breast cancer dataset](https://archive.ics.uci.edu/ml/machine-learning-databases/breast-cancer-wisconsin/breast-cancer-wisconsin.data) from the Week 3 lab, and that you are asked to detect outliers from this dataset. Additional information on the dataset attributes can be found [online](https://archive.ics.uci.edu/ml/machine-learning-databases/breast-cancer-wisconsin/breast-cancer-wisconsin.names). Explain one possible outlier detection method that you could apply for detecting outliers for this particular dataset, explain what is defined as an outlier for your suggested approach given this particular dataset, and justify why would you choose this particular method for outlier detection. "
   ]
  },
  {
   "cell_type": "markdown",
   "id": "cba3fb29",
   "metadata": {},
   "source": [
    "**Isolation Forrest Method:**\n",
    "\n",
    "An approach for identifying outliers based on trees is the Isolation Forest algorithm. The algorithm performs the following actions:\n",
    "\n",
    "- The algorithm constructs an ensemble of isolation trees.\n",
    "- A random subset of characteristics is chosen for each tree, and data points are separated according to randomly chosen thresholds.\n",
    "- Since outliers may be removed from most of the data with fewer splits, they are expected to be isolated quickly.\n",
    "- An instance's anomaly score in the trees is based on its average path length.\n",
    "- Shorter average path lengths indicate potential outliers.\n",
    "\n",
    "**What is an Outlier?**\n",
    "\n",
    "An outlier is a data point representing a tumour that differs from most of the cancers in the dataset in terms of its features. This definition applies to the breast cancer dataset. The term \"outliers\" refers to unusual and uncommon cancer cases that differ markedly from the common patterns found in benign and malignant tumours.\n",
    "\n",
    "**Isolation Forest Justification:**\n",
    "\n",
    "Isolation Forest is a good option for outlier discovery in this situation for several reasons:\n",
    "\n",
    "- **High-Dimentional Information:** Isolation Forest works best with datasets with many features/attributes. The fact that Isolation Forest can handle high-dimensional data makes it a plausible candidate, especially considering that the breast cancer dataset has ten features, including different properties of tumour cells.\n",
    "\n",
    "- **Multicollinearity:** Multicollinearity, or the correlation between various characteristics, has little effect on the Isolation Forrest method. This is useful for medical datasets where correlations between specific features may exist.\n",
    "\n",
    "- **Outlier Sensitivity:** Isolation Forest is good at spotting uncommon and strange occurrences since it is sensitive to outliers. The ability to detect potentially abnormal cancers depends heavily on this sensitivity.\n",
    "\n",
    "\n",
    "**Read lectures for this and see what they have given us**"
   ]
  },
  {
   "cell_type": "markdown",
   "id": "dfbf7175",
   "metadata": {},
   "source": [
    "### c) The monthly rainfall in the London borough of Tower Hamlets in 2019 had the following amount of precipitation (measured in mm, values from January-December 2018): {22.93, 20.69, 25.75, 23.84, 25.34, 3.25, 23.55, 28.28, 23.72, 22.42, 26.83, 23.82}. Assuming that the data is based on a normal distribution, identify outlier values in the above dataset using the maximum likelihood method. "
   ]
  },
  {
   "cell_type": "markdown",
   "id": "3a3859c8",
   "metadata": {},
   "source": [
    "**Outlier Identification in Monthly Rainfall Data using Maximum Likelihood Method**\n",
    "\n",
    "The given dataset represents the monthly rainfall in the London borough of Tower Hamlets for the year 2019:\n",
    "\n",
    "{22.93, 20.69, 25.75, 23.84, 25.34, 3.25, 23.55, 28.28, 23.72, 22.42, 26.83, 23.82}\n",
    "\n",
    "**Step 1: Calculate Mean and Standard Deviation**\n",
    "\n",
    "The first step in identifying outliers using the maximum likelihood method involves computing the mean and standard deviation of the dataset. For this dataset, the mean rainfall is calculated to be 22.54 mm (rounded to 2 decimal places), and the standard deviation is approximately 6.40 mm. \n",
    "\n",
    "**Step 2: Identify Outliers**\n",
    "\n",
    "According to the maximum likelihood method, values that fall outside the range $(\\mu - k \\sigma, \\mu + k \\sigma)$ are considered outliers, where $k$ is a chosen threshold (commonly set to 2 or 3, we have chosen 2). \n",
    "\n",
    "Using the provided mean and standard deviation:\n",
    "\n",
    " $\\text{Outlier Range} = (22.54 - 2 \\times 6.40, 22.54 + 2 \\times 6.40) \\$\n",
    "\n",
    " $\\text{Outlier Range} = (9.74, 35.34) \\$\n",
    "\n",
    "Any values in the dataset falling outside this range would be considered outliers according to the maximum likelihood method. You can compare each data point against this range to identify outliers in the dataset.\n",
    "\n",
    "The outlier in our dataset is 3.25. "
   ]
  },
  {
   "cell_type": "markdown",
   "id": "001af12f",
   "metadata": {},
   "source": [
    "### d) Using the stock prices (stocks.csv included in the supplementary material) dataset used in sections 1 and 2 of Week 9 lab, estimate the outliers in the dataset using the one-class SVM classifier approach. As input to the classifier, use the percentage of changes in the daily closing price of each stock, as was done in section 1 of the notebook. Use the same SVM settings as in the lab notebook. "
   ]
  },
  {
   "cell_type": "code",
   "execution_count": 1,
   "id": "88d8d929",
   "metadata": {},
   "outputs": [
    {
     "data": {
      "text/html": [
       "<div>\n",
       "<style scoped>\n",
       "    .dataframe tbody tr th:only-of-type {\n",
       "        vertical-align: middle;\n",
       "    }\n",
       "\n",
       "    .dataframe tbody tr th {\n",
       "        vertical-align: top;\n",
       "    }\n",
       "\n",
       "    .dataframe thead th {\n",
       "        text-align: right;\n",
       "    }\n",
       "</style>\n",
       "<table border=\"1\" class=\"dataframe\">\n",
       "  <thead>\n",
       "    <tr style=\"text-align: right;\">\n",
       "      <th></th>\n",
       "      <th>MSFT</th>\n",
       "      <th>F</th>\n",
       "      <th>BAC</th>\n",
       "    </tr>\n",
       "    <tr>\n",
       "      <th>Date</th>\n",
       "      <th></th>\n",
       "      <th></th>\n",
       "      <th></th>\n",
       "    </tr>\n",
       "  </thead>\n",
       "  <tbody>\n",
       "    <tr>\n",
       "      <th>2007-01-03</th>\n",
       "      <td>29.860001</td>\n",
       "      <td>7.51</td>\n",
       "      <td>53.330002</td>\n",
       "    </tr>\n",
       "    <tr>\n",
       "      <th>2007-01-04</th>\n",
       "      <td>29.809999</td>\n",
       "      <td>7.70</td>\n",
       "      <td>53.669998</td>\n",
       "    </tr>\n",
       "    <tr>\n",
       "      <th>2007-01-05</th>\n",
       "      <td>29.639999</td>\n",
       "      <td>7.62</td>\n",
       "      <td>53.240002</td>\n",
       "    </tr>\n",
       "    <tr>\n",
       "      <th>2007-01-08</th>\n",
       "      <td>29.930000</td>\n",
       "      <td>7.73</td>\n",
       "      <td>53.450001</td>\n",
       "    </tr>\n",
       "    <tr>\n",
       "      <th>2007-01-09</th>\n",
       "      <td>29.959999</td>\n",
       "      <td>7.79</td>\n",
       "      <td>53.500000</td>\n",
       "    </tr>\n",
       "  </tbody>\n",
       "</table>\n",
       "</div>"
      ],
      "text/plain": [
       "                 MSFT     F        BAC\n",
       "Date                                  \n",
       "2007-01-03  29.860001  7.51  53.330002\n",
       "2007-01-04  29.809999  7.70  53.669998\n",
       "2007-01-05  29.639999  7.62  53.240002\n",
       "2007-01-08  29.930000  7.73  53.450001\n",
       "2007-01-09  29.959999  7.79  53.500000"
      ]
     },
     "execution_count": 1,
     "metadata": {},
     "output_type": "execute_result"
    }
   ],
   "source": [
    "import pandas as pd\n",
    "\n",
    "# Load CSV file and parse dates\n",
    "stocks = pd.read_csv('stocks.csv', header='infer', parse_dates=['Date'], index_col='Date')\n",
    "\n",
    "# Display the first rows of the dataframe\n",
    "stocks.head()"
   ]
  },
  {
   "cell_type": "code",
   "execution_count": 2,
   "id": "fbf610e1",
   "metadata": {},
   "outputs": [],
   "source": [
    "import numpy as np\n",
    "\n",
    "N, d = stocks.shape\n",
    "\n",
    "# Compute delta, which denotes the percentage of changes in the daily closing price of each stock\n",
    "delta = pd.DataFrame(100 * np.divide(stocks.iloc[1:, :].values - stocks.iloc[:N - 1, :].values, \n",
    "                                     stocks.iloc[:N - 1, :].values),\n",
    "                     columns=stocks.columns, index=stocks.iloc[1:].index)\n",
    "\n",
    "# Display the first few rows of the delta DataFrame\n",
    "delta.head()\n",
    "\n",
    "# Get values from delta DataFrame\n",
    "data = delta.values"
   ]
  },
  {
   "cell_type": "code",
   "execution_count": 3,
   "id": "fc89fea6",
   "metadata": {},
   "outputs": [],
   "source": [
    "from sklearn.svm import OneClassSVM \n",
    "\n",
    "# Initialising the One-Class SVM model.\n",
    "# The gamma parameter is set to 'auto' which uses 1 / n_features,\n",
    "# and nu is set to 0.01, which is an upper bound on the fraction of training errors.\n",
    "svm = OneClassSVM(gamma='auto', nu=0.01)\n",
    "\n",
    "# Fitting the model to the data.\n",
    "# The data variable should be a NumPy array or a pandas DataFrame containing the features.\n",
    "svm.fit(data)\n",
    "\n",
    "# Predicting the anomalies in the data.\n",
    "# The predict method will return -1 for outliers and 1 for inliers.\n",
    "pred = svm.predict(data)\n",
    "\n",
    "# Importing the where function from numpy.\n",
    "# This function will return the indices of elements in pred where the condition is true, i.e., where pred equals -1.\n",
    "anom_index = np.where(pred == -1)\n",
    "\n",
    "# Retrieving the values corresponding to anomalies.\n",
    "# Using the indices from anom_index to filter the anomalies from the original dataset.\n",
    "values = data[anom_index]"
   ]
  },
  {
   "cell_type": "markdown",
   "id": "3a882817",
   "metadata": {},
   "source": [
    "**Plot a 3D scatterplot of the dataset, where each object is color-coded according to whether it is an outlier or an inlier.**"
   ]
  },
  {
   "cell_type": "code",
   "execution_count": 4,
   "id": "5ba5234f",
   "metadata": {},
   "outputs": [
    {
     "data": {
      "image/png": "[encoded data removed]",
      "text/plain": [
       "<Figure size 640x480 with 1 Axes>"
      ]
     },
     "metadata": {},
     "output_type": "display_data"
    }
   ],
   "source": [
    "import matplotlib.pyplot as plt\n",
    "from mpl_toolkits.mplot3d import Axes3D\n",
    "\n",
    "# Create a 3D plot\n",
    "fig = plt.figure()\n",
    "ax = fig.add_subplot(111, projection='3d')\n",
    "\n",
    "# Scatter plot for 'data'\n",
    "ax.scatter(data[:, 0], data[:, 1], data[:, 2])\n",
    "\n",
    "# Scatter plot for 'values' in red\n",
    "ax.scatter(values[:, 0], values[:, 1], values[:, 2], color='r')\n",
    "\n",
    "ax.set_xlabel('Microsoft')\n",
    "ax.set_ylabel('Ford')\n",
    "ax.set_zlabel('Bank of America')\n",
    "\n",
    "\n",
    "# Show the plot\n",
    "plt.show()"
   ]
  },
  {
   "cell_type": "markdown",
   "id": "5df5de0b",
   "metadata": {},
   "source": [
    "**Also compute a histogram and the frequencies of the estimated outlier and inlier labels.**\n"
   ]
  },
  {
   "cell_type": "code",
   "execution_count": 5,
   "id": "f2ddfd84",
   "metadata": {},
   "outputs": [
    {
     "data": {
      "image/png": "[encoded data removed]",
      "text/plain": [
       "<Figure size 640x480 with 1 Axes>"
      ]
     },
     "metadata": {},
     "output_type": "display_data"
    }
   ],
   "source": [
    "labels, counts = np.unique(pred, return_counts=True)\n",
    "\n",
    "# Creating a histogram/bar plot of the frequencies\n",
    "plt.bar(labels, counts, tick_label=['Outliers (-1)', 'Inliers (1)'])\n",
    "\n",
    "# Adding titles and labels for clarity\n",
    "plt.title('Frequencies of Outliers and Inliers')\n",
    "plt.xlabel('Label')\n",
    "plt.ylabel('Frequency')\n",
    "\n",
    "# Show the plot\n",
    "plt.show()"
   ]
  },
  {
   "cell_type": "markdown",
   "id": "93a32ed7",
   "metadata": {},
   "source": [
    "**In terms of the plotted results, how does the one-class SVM approach for outlier detection differ from the parametric and proximity-based methods used in the lab notebook?**\n",
    "\n",
    "A particular machine learning method called the One-Class SVM approach is mainly employed for novelty identification. The training phase aims to teach it what 'typical' behaviour in a dataset looks like. This approach is flexible and practical for processing complicated data sets, and it excels at managing high-dimensional data without requiring a particular distribution. This method identifies outliers by building a hyperplane around the average data, with points outside of it being regarded as outliers. Non-linear relationships are a common feature in many real-world datasets, and this technique is advantageous since it can handle them well. \n",
    "\n",
    "However, parametric methods approach outlier detection from a different angle. These methods are based on the assumption that the data follow a specific statistical distribution, most often Gaussian. Outliers are distinguished by how far a data point deviates from this assumed distribution. Because parametric techniques are simple and easy to understand, they are essential. These methods are often more straightforward and computationally efficient by assuming a particular distribution. However, the accuracy of the projected distribution is the primary determinant of their effectiveness.\n",
    "\n",
    "Proximity-based approaches offer an alternate perspective. They operate under the presumption that the bulk of data points isolate outliers. These methods identify low-density areas within the dataset or determine the distance between a location and other data points to identify outliers. Because proximity-based methods can handle many outliers and are resilient to changes in the data distribution, they are advantageous when the data distribution is erratic or unpredictable.\n",
    "\n",
    "Although parametric techniques work better when the data distribution is well-known and straightforward, One-Class SVM is widely recognised for its versatility in handling complex, high-dimensional data without a predetermined distribution. However, proximity-based methods can detect outliers based on spatial isolation, independent of the data's distribution form. Each strategy has benefits and is more effective for particular data science outlier detection issues.\n",
    "\n",
    "\n",
    "We see apparent variations in the visual representations and features of the One-Class SVM approach's plotted results when compared to parametric and proximity-based approaches for outlier detection:\n",
    "\n",
    "\n",
    "1. One-Class SVM Approach:\n",
    "\n",
    "    - Plotted Results:\n",
    "\n",
    "        - Visualisations typically show a boundary or hyperplane encapsulating the majority of data points, representing the 'normal' region of the data. Outliers are identified as points lying outside this boundary.\n",
    "\n",
    "    - Characteristics:\n",
    "\n",
    "        - The boundary can have a non-linear shape, especially in high-dimensional spaces, due to the kernel trick used in SVMs. This allows the One-Class SVM to adapt to complex data distributions.\n",
    "\n",
    "2. Parametric Methods:\n",
    "\n",
    "    - Plotted Results:\n",
    "\n",
    "        - Results often show a central cluster of data points, reflecting the assumed distribution (e.g., Gaussian). Outliers appear as points significantly distanced from this central cluster.\n",
    "\n",
    "    - Characteristics:\n",
    "\n",
    "        - Visualisation often mirrors the shape of the assumed distribution, such as an ellipsoidal shape in Gaussian distributions. Outliers are positioned far from the central concentration of points.\n",
    "\n",
    "3. Proximity-based Methods:\n",
    "\n",
    "    - Plotted Results:\n",
    "\n",
    "        - Outliers are identified as points far from their nearest neighbours, appearing as isolated points in low-density areas.\n",
    "\n",
    "    - Characteristics:\n",
    "\n",
    "        - The results are influenced by the local density of data points and the distance metric used. This leads to a scattered distribution of outliers, highlighting their isolation.\n",
    "\n",
    "In summary, parametric approaches usually show core clustering according to the assumed distribution, with outliers as distant points. In contrast, the One-Class SVM approach is a boundary separating normal from aberrant data points. Conversely, proximity-based techniques highlight outliers according to how far they are from or how isolated they are from denser regions of the data plot. These disparities in appearance result from the different theoretical underpinnings and workings of each method, providing different viewpoints on locating outliers within a dataset.\n"
   ]
  },
  {
   "cell_type": "markdown",
   "id": "f1ce7436",
   "metadata": {},
   "source": [
    "**What percentage of the dataset objects are classified as outliers?**"
   ]
  },
  {
   "cell_type": "code",
   "execution_count": 6,
   "id": "754ccc6c",
   "metadata": {},
   "outputs": [
    {
     "name": "stdout",
     "output_type": "stream",
     "text": [
      "Percentage of dataset classified as outliers: 17.80%\n"
     ]
    }
   ],
   "source": [
    "# Calculating the number of outliers.\n",
    "# pred is an array with -1 for outliers and 1 for inliers.\n",
    "# np.sum(pred == -1) counts the number of -1s in the pred array, indicating the number of outliers.\n",
    "outlier_count = np.sum(pred == -1)\n",
    "\n",
    "# Calculating the total number of data points.\n",
    "# len(pred) gives the total number of predictions made, equal to the number of data points.\n",
    "total_count = len(pred)\n",
    "\n",
    "# Calculating the percentage of data points classified as outliers.\n",
    "# The formula is (number of outliers / total data points) * 100\n",
    "outlier_percentage = (outlier_count / total_count) * 100\n",
    "\n",
    "# Printing the percentage of outliers in the dataset.\n",
    "# The format :.2f limits the output to 2 decimal places.\n",
    "print(f\"Percentage of dataset classified as outliers: {outlier_percentage:.2f}%\")\n"
   ]
  },
  {
   "cell_type": "markdown",
   "id": "18244a57",
   "metadata": {},
   "source": [
    "## Questions 3(a)(I) is a pen and paper exercise and 3(a)(II) is a coding exercise. Questions 3(b) is a pen-and-paper exercise. "
   ]
  },
  {
   "cell_type": "markdown",
   "id": "b0c85f70",
   "metadata": {},
   "source": [
    "### (a) You are provided with the following URL: http://eecs.qmul.ac.uk/~emmanouilb/income_table.html). This webpage includes a table on individuals' income and shopping habits."
   ]
  },
  {
   "cell_type": "raw",
   "id": "f3b25f21",
   "metadata": {},
   "source": [
    "<html><head></head><body data-new-gr-c-s-check-loaded=\"14.1145.0\" data-gr-ext-installed=\"\" data-gr-ext-disabled=\"forever\">\n",
    "\n",
    "<h1>ECS766P Data Mining - Week 10</h1>\n",
    "<p>The below table contains income data per country; the same table was used for the Week 3 lab.</p>\n",
    "\n",
    "<table class=\"table table-bordered table-hover table-condensed\">\n",
    "<thead><tr><th title=\"Field #1\">Region</th>\n",
    "<th title=\"Field #2\">Age</th>\n",
    "<th title=\"Field #3\">Income</th>\n",
    "<th title=\"Field #4\">Online Shopper</th>\n",
    "</tr></thead>\n",
    "<tbody><tr>\n",
    "<td>India</td>\n",
    "<td align=\"right\">49</td>\n",
    "<td align=\"right\">86400</td>\n",
    "<td>No</td>\n",
    "</tr>\n",
    "<tr>\n",
    "<td>Brazil</td>\n",
    "<td align=\"right\">32</td>\n",
    "<td align=\"right\">57600</td>\n",
    "<td>Yes</td>\n",
    "</tr>\n",
    "<tr>\n",
    "<td>USA</td>\n",
    "<td align=\"right\">35</td>\n",
    "<td align=\"right\">64800</td>\n",
    "<td>No</td>\n",
    "</tr>\n",
    "<tr>\n",
    "<td>Brazil</td>\n",
    "<td align=\"right\">43</td>\n",
    "<td align=\"right\">73200</td>\n",
    "<td>No</td>\n",
    "</tr>\n",
    "<tr>\n",
    "<td>USA</td>\n",
    "<td align=\"right\">45</td>\n",
    "<td align=\"right\"></td>\n",
    "<td>Yes</td>\n",
    "</tr>\n",
    "<tr>\n",
    "<td>India</td>\n",
    "<td align=\"right\">40</td>\n",
    "<td align=\"right\">69600</td>\n",
    "<td>Yes</td>\n",
    "</tr>\n",
    "<tr>\n",
    "<td>Brazil</td>\n",
    "<td align=\"right\"></td>\n",
    "<td align=\"right\">62400</td>\n",
    "<td>No</td>\n",
    "</tr>\n",
    "<tr>\n",
    "<td>India</td>\n",
    "<td align=\"right\">53</td>\n",
    "<td align=\"right\">94800</td>\n",
    "<td>Yes</td>\n",
    "</tr>\n",
    "<tr>\n",
    "<td>USA</td>\n",
    "<td align=\"right\">55</td>\n",
    "<td align=\"right\">99600</td>\n",
    "<td>No</td>\n",
    "</tr>\n",
    "<tr>\n",
    "<td>India</td>\n",
    "<td align=\"right\">42</td>\n",
    "<td align=\"right\">80400</td>\n",
    "<td>Yes</td>\n",
    "</tr>\n",
    "</tbody></table>\n",
    "\n",
    "\n",
    " \n",
    "</body></html>"
   ]
  },
  {
   "cell_type": "markdown",
   "id": "e7d6be0c",
   "metadata": {},
   "source": [
    "#### (i) Inspect the HTML code of the above URL and provide a short report on the various tags present in the code. What is the function of each unique tag present in the HTML code?"
   ]
  },
  {
   "cell_type": "markdown",
   "id": "c0112c93",
   "metadata": {},
   "source": [
    "**Overview of Unique HTML Tags in the Provided HTML Code above:**\n",
    "\n",
    " **`<html>`** \n",
    "- This is the root element of an HTML page. \n",
    "- It defines the entire HTML document and is the container for all other HTML elements (except for `<!DOCTYPE>`).\n",
    "- It is essential for any HTML document to begin with this tag.\n",
    "\n",
    " **`<head>`** \n",
    "- This element contains meta-information about the HTML document.\n",
    "- It typically includes elements like `<title>`, `<meta>`, `<link>`, `<script>`, `<style>`, etc.\n",
    "- The information inside `<head>` is not displayed directly on the web page but is used by browsers and search engines.\n",
    "\n",
    " **`<body>`** \n",
    "- This tag encloses the content of the HTML document that is visible on the web browser.\n",
    "- It can contain a variety of content types including text, images, links, tables, lists, etc.\n",
    "- Everything displayed on the web page (excluding the head information) is placed within this tag.\n",
    "\n",
    " **`<h1>`** \n",
    "- Represents the top-level heading of a page and is the highest-level heading.\n",
    "- Used for main titles, it helps to structure content and plays a crucial role in SEO.\n",
    "- Typically, it is used once per page, signifying the main subject or topic.\n",
    "\n",
    " **`<p>`** \n",
    "- Stands for 'paragraph'.\n",
    "- This tag is used to define blocks of text, separating them into distinct sections.\n",
    "- It helps in organising textual content in a readable and well-structured format.\n",
    "\n",
    " **`<table>`** \n",
    "- Used to create a table, an essential element for presenting tabular data.\n",
    "- It comprises rows and columns and can be styled with CSS.\n",
    "- The `<table>` tag works in conjunction with `<tr>`, `<th>`, and `<td>` tags to define the structure of the table.\n",
    "\n",
    " **`<thead>`** \n",
    "- Denotes the head portion of a table.\n",
    "- Typically contains a row of table headings (`<th>` elements).\n",
    "- It is used to group header content, providing a context for the data presented in the rest of the table (`<tbody>`).\n",
    "\n",
    " **`<tr>`** \n",
    "- Stands for 'table-row'.\n",
    "- This tag is used within a `<table>` to define a row of cells.\n",
    "- A `<tr>` element contains one or more `<th>` or `<td>` elements.\n",
    "\n",
    " **`<th>`** \n",
    "- Represents 'table header cell' in a table.\n",
    "- Text within a `<th>` is usually bold and centred by default.\n",
    "- It defines header cells in tables and can include scope attributes to associate header cells with data cells.\n",
    "\n",
    " **`<tbody>`** \n",
    "- Used to group the body content in a table.\n",
    "- It contains one or more `<tr>` elements, each defining a table row.\n",
    "- This separation into `<thead>`, `<tbody>`, and `<tfoot>` helps with large tables for styling and rendering purposes.\n",
    "\n",
    "**`<td>`** \n",
    "- Stands for 'table data'.\n",
    "- This tag defines a standard cell in a table.\n",
    "- It holds the data relevant to the table, such as text, images, lists, other tables, etc.\n",
    "\n",
    "\n",
    "Each tag has a defined purpose when organising and presenting content on a web page. Using these tags, you may assist the browser in organising the data legibly and structuring it (in our example, income and shopping habits by nation)."
   ]
  },
  {
   "cell_type": "markdown",
   "id": "45ace287",
   "metadata": {},
   "source": [
    "#### (ii) [Coding] - Using Beautiful Soup, scrape the table and convert it into a pandas dataframe. Perform data cleaning when necessary to remove extra characters (no need to handle missing values). In the report include the code that was used to scrape and convert the table and provide evidence that the table has been successfully scraped and converted (e.g. by displaying the contents of the dataframe)."
   ]
  },
  {
   "cell_type": "code",
   "execution_count": 7,
   "id": "b24ee80f",
   "metadata": {},
   "outputs": [
    {
     "name": "stdout",
     "output_type": "stream",
     "text": [
      "Requirement already satisfied: beautifulsoup4 in /Users/pranaydhareshwar/anaconda3/lib/python3.11/site-packages (4.12.2)\n",
      "Requirement already satisfied: pandas in /Users/pranaydhareshwar/anaconda3/lib/python3.11/site-packages (2.0.3)\n",
      "Requirement already satisfied: soupsieve>1.2 in /Users/pranaydhareshwar/anaconda3/lib/python3.11/site-packages (from beautifulsoup4) (2.4)\n",
      "Requirement already satisfied: python-dateutil>=2.8.2 in /Users/pranaydhareshwar/anaconda3/lib/python3.11/site-packages (from pandas) (2.8.2)\n",
      "Requirement already satisfied: pytz>=2020.1 in /Users/pranaydhareshwar/anaconda3/lib/python3.11/site-packages (from pandas) (2023.3.post1)\n",
      "Requirement already satisfied: tzdata>=2022.1 in /Users/pranaydhareshwar/anaconda3/lib/python3.11/site-packages (from pandas) (2023.3)\n",
      "Requirement already satisfied: numpy>=1.21.0 in /Users/pranaydhareshwar/anaconda3/lib/python3.11/site-packages (from pandas) (1.24.3)\n",
      "Requirement already satisfied: six>=1.5 in /Users/pranaydhareshwar/anaconda3/lib/python3.11/site-packages (from python-dateutil>=2.8.2->pandas) (1.16.0)\n"
     ]
    }
   ],
   "source": [
    "!pip install beautifulsoup4 pandas"
   ]
  },
  {
   "cell_type": "code",
   "execution_count": 8,
   "id": "0b2eab2b",
   "metadata": {},
   "outputs": [],
   "source": [
    "from bs4 import BeautifulSoup\n",
    "from urllib.request import urlopen\n",
    "\n",
    "# HTML string\n",
    "html_link = 'http://eecs.qmul.ac.uk/~emmanouilb/income_table.html'\n",
    "html_income_shopping = urlopen(html_link) "
   ]
  },
  {
   "cell_type": "code",
   "execution_count": 9,
   "id": "34ba5ff6",
   "metadata": {},
   "outputs": [
    {
     "name": "stdout",
     "output_type": "stream",
     "text": [
      "   Region   Age Income Online Shopper\n",
      "0   India    49  86400             No\n",
      "1  Brazil    32  57600            Yes\n",
      "2     USA    35  64800             No\n",
      "3  Brazil    43  73200             No\n",
      "4     USA    45   None            Yes\n",
      "5   India    40  69600            Yes\n",
      "6  Brazil  None  62400             No\n",
      "7   India    53  94800            Yes\n",
      "8     USA    55  99600             No\n",
      "9   India    42  80400            Yes\n"
     ]
    }
   ],
   "source": [
    "# Parse the HTML\n",
    "soup = BeautifulSoup(html_income_shopping, \"html.parser\")\n",
    "\n",
    "# Locate the table\n",
    "table = soup.find('table')\n",
    "\n",
    "# Extract the rows and headers from the table\n",
    "rows = table.find_all('tr')\n",
    "headers = [header.text for header in rows[0].find_all('th')]\n",
    "\n",
    "# Extract table data\n",
    "table_data = []\n",
    "for row in rows[1:]:\n",
    "    cols = row.find_all('td')\n",
    "    cols = [ele.text.strip() if ele.text else None for ele in cols]  \n",
    "    table_data.append(cols)\n",
    "\n",
    "# Convert to and display DataFrame\n",
    "df = pd.DataFrame(table_data, columns=headers)\n",
    "print(df)"
   ]
  },
  {
   "cell_type": "markdown",
   "id": "cb0f19dc",
   "metadata": {},
   "source": [
    "### b. [pen&paper] Consider the graph in the figure below as displaying the links for a group of 5 webpages. Which of the 5 nodes would you consider hubs and which would you consider authorities?"
   ]
  },
  {
   "cell_type": "markdown",
   "id": "f267c18d",
   "metadata": {},
   "source": [
    "An authority is a page that is linked by numerous hubs, while a hub is a page that points to numerous other pages in the context of the hyperlink-induced topic search (HITS) algorithm (an query-dependant algorithm for ranking pages) \n",
    "\n",
    "**Authority**\n",
    "\n",
    "Nodes 1 and 2 have incoming links from nodes 3,4 and 5; therefore we would consider them as authorities. \n",
    "\n",
    "**Hubs**\n",
    "\n",
    "From the diargam provided we can see that nodes 3,4 and 5 have outgoing links to nodes 1 and 2. In this case we can consider 3,4 and 5 as Hubs as they link to other pages."
   ]
  },
  {
   "cell_type": "markdown",
   "id": "6c3f45a4",
   "metadata": {},
   "source": [
    "## Question 4a. is a pen-and-paper exercises; questions 4b is a coding exercise. For all your answers please show your workings (equations or code when applicable). "
   ]
  },
  {
   "cell_type": "markdown",
   "id": "d1f31a97",
   "metadata": {},
   "source": [
    "### (a) Consider the following sentences related to data mining theory, and assume that each of the below sentences corresponds to a different document:"
   ]
  },
  {
   "cell_type": "markdown",
   "id": "ee7d5fad",
   "metadata": {},
   "source": [
    "#### (i) Construct and display the document-term matrix for the above documents. Remove all stop words (here consider as stop words: articles, prepositions, conjunctions, pronouns, and common verbs) and punctuation marks; convert any plural nouns/adjectives to their singular form; and convert verbs to the present tense and first-person singular form, before you construct the matrix. "
   ]
  },
  {
   "cell_type": "markdown",
   "id": "34902eb8",
   "metadata": {},
   "source": [
    "**Document-Term Matrix Construction**\n",
    "\n",
    "We first process the sentences by removing stop words, punctuation, and normalising the terms. The sentences are:\n",
    "\n",
    "1. \"Data refers to characteristics that are collected through observation.\"\n",
    "2. \"A dataset can be viewed as a collection of objects.\"\n",
    "3. \"Data objects are described by a number of attributes.\"\n",
    "4. \"An attribute is a characteristic or feature of an object.\"\n",
    "\n",
    "**Processed Sentences:**\n",
    "1. \"Data refer characteristic collect observation.\"\n",
    "2. \"Dataset view collection object.\"\n",
    "3. \"Data object describe number attribute.\"\n",
    "4. \"Attribute characteristic feature object.\"\n",
    "\n",
    "### Document-Term Matrix:\n",
    "| Document | Data | refer | characteristic | collect | observation | Dataset | view | collection | object | describe | number | attribute | feature |\n",
    "|----------|------|-------|----------------|---------|-------------|---------|------|------------|--------|----------|--------|-----------|--------|\n",
    "| 1        | 1    | 1     | 1              | 1       | 1           | 0       | 0    | 0          | 0      | 0        | 0      | 0         | 0      |\n",
    "| 2        | 0    | 0     | 0              | 0       | 0           | 1       | 1    | 1          | 1      | 0        | 0      | 0         | 0      |\n",
    "| 3        | 1    | 0     | 0              | 0       | 0           | 0       | 0    | 0          | 1      | 1        | 1      | 1         | 0      |\n",
    "| 4        | 0    | 0     | 1              | 0       | 0           | 0       | 0    | 0          | 1      | 0        | 0      | 1         | 1      |\n",
    "\n",
    "Each cell in the matrix represents the frequency of the corresponding term in each document. This matrix provides a structured way to analyse and compare the content of the documents."
   ]
  },
  {
   "cell_type": "markdown",
   "id": "e3c77631",
   "metadata": {},
   "source": [
    "#### ii) Using the above constructed document-term matrix, calculate the inverse document frequency $idf(w)$ for all words $w$ you have identified from the previous question (I). "
   ]
  },
  {
   "cell_type": "markdown",
   "id": "15465a10",
   "metadata": {},
   "source": [
    "**Calculating IDF:**\n",
    "\n",
    "Let's calculate the IDF for each word:\n",
    "\n",
    "$idf(w) = \\log\\left(\\frac{N}{df(w)}\\right)$\n",
    "\n",
    "- $N (\\text{Total Documents}) = 4$\n",
    "\n",
    "- $df(\\text{Data}) = 2$\n",
    "    - $idf(\\text{Data}) = \\log\\left(\\frac{4}{2}\\right) = 0.301$\n",
    "\n",
    "- $df(\\text{refer}) = 1$\n",
    "    - $idf(\\text{refer}) = \\log\\left(\\frac{4}{1}\\right) = 0.602$\n",
    "\n",
    "#### Calculated IDF Values:\n",
    "\n",
    "- Data: 0.301\n",
    "\n",
    "- refer: 0.602\n",
    "\n",
    "- characteristic: 0.301\n",
    "\n",
    "- collect: 0.602\n",
    "\n",
    "- observation: 0.602\n",
    "\n",
    "- Dataset: 0.602\n",
    "\n",
    "- view: 0.602\n",
    "\n",
    "- collection: 0.602\n",
    "\n",
    "- object: 0.125\n",
    "\n",
    "- describe: 0.602\n",
    "\n",
    "- number: 0.602\n",
    "\n",
    "- attribute: 0.301\n",
    "\n",
    "- feature: 0.602"
   ]
  },
  {
   "cell_type": "markdown",
   "id": "f3e1c53a",
   "metadata": {},
   "source": [
    "### b) Using the daily births dataset from Week 11 lab notebook, smooth the timeseries using trailing moving average smoothing and a window size that corresponds to one week; then replace any NaN values with zeros. Perform timeseries forecasting using the smoothed dataset in order to predict daily births for the first 5 days of 1960, using the models below. Show your forecasting results.\n",
    "\n",
    " AR model with $p =2$\n",
    " \n",
    " ARMA model with $p =2$ and $q =2$"
   ]
  },
  {
   "cell_type": "code",
   "execution_count": 10,
   "id": "5480ea3b",
   "metadata": {},
   "outputs": [],
   "source": [
    "from statsmodels.tsa.arima.model import ARIMA\n",
    "from statsmodels.tsa.ar_model import AutoReg\n",
    "\n",
    "# Load the dataset\n",
    "file_path = 'births.csv'\n",
    "births_data = pd.read_csv(file_path)"
   ]
  },
  {
   "cell_type": "code",
   "execution_count": 11,
   "id": "02671625",
   "metadata": {},
   "outputs": [],
   "source": [
    "# Convert the 'Date' column to datetime type and set it as the index\n",
    "births_data['Date'] = pd.to_datetime(births_data['Date'])\n",
    "births_data.set_index('Date', inplace=True)\n",
    "\n"
   ]
  },
  {
   "cell_type": "code",
   "execution_count": 12,
   "id": "305d4ced",
   "metadata": {},
   "outputs": [],
   "source": [
    "# Smooth the timeseries using trailing moving average with a window size of 7 days\n",
    "smoothed_births = births_data.rolling(window=7).mean()\n",
    "\n",
    "# Replace NaN values with zeros\n",
    "smoothed_births.fillna(0, inplace=True)\n",
    "\n"
   ]
  },
  {
   "cell_type": "code",
   "execution_count": 13,
   "id": "824f67e4",
   "metadata": {},
   "outputs": [
    {
     "name": "stderr",
     "output_type": "stream",
     "text": [
      "/Users/pranaydhareshwar/anaconda3/lib/python3.11/site-packages/statsmodels/tsa/base/tsa_model.py:473: ValueWarning: No frequency information was provided, so inferred frequency D will be used.\n",
      "  self._init_dates(dates, freq)\n",
      "/Users/pranaydhareshwar/anaconda3/lib/python3.11/site-packages/statsmodels/tsa/deterministic.py:302: UserWarning: Only PeriodIndexes, DatetimeIndexes with a frequency set, RangesIndexes, and Index with a unit increment support extending. The index is set will contain the position relative to the data length.\n",
      "  fcast_index = self._extend_index(index, steps, forecast_index)\n"
     ]
    }
   ],
   "source": [
    "# Forecasting using AR model with p=2\n",
    "ar_model = AutoReg(smoothed_births, lags=2)\n",
    "ar_model_fit = ar_model.fit()\n",
    "ar_forecast = ar_model_fit.forecast(steps=5)"
   ]
  },
  {
   "cell_type": "code",
   "execution_count": 14,
   "id": "6d971c5f",
   "metadata": {},
   "outputs": [
    {
     "name": "stderr",
     "output_type": "stream",
     "text": [
      "/Users/pranaydhareshwar/anaconda3/lib/python3.11/site-packages/statsmodels/tsa/base/tsa_model.py:473: ValueWarning: No frequency information was provided, so inferred frequency D will be used.\n",
      "  self._init_dates(dates, freq)\n",
      "/Users/pranaydhareshwar/anaconda3/lib/python3.11/site-packages/statsmodels/tsa/base/tsa_model.py:473: ValueWarning: No frequency information was provided, so inferred frequency D will be used.\n",
      "  self._init_dates(dates, freq)\n",
      "/Users/pranaydhareshwar/anaconda3/lib/python3.11/site-packages/statsmodels/tsa/base/tsa_model.py:473: ValueWarning: No frequency information was provided, so inferred frequency D will be used.\n",
      "  self._init_dates(dates, freq)\n"
     ]
    }
   ],
   "source": [
    "# Forecasting using ARMA model with p=2 and q=2\n",
    "arma_model = ARIMA(smoothed_births, order=(2, 0, 2))\n",
    "arma_model_fit = arma_model.fit()\n",
    "arma_forecast = arma_model_fit.forecast(steps=5)\n",
    "\n"
   ]
  },
  {
   "cell_type": "code",
   "execution_count": 15,
   "id": "95e90efa",
   "metadata": {},
   "outputs": [
    {
     "name": "stdout",
     "output_type": "stream",
     "text": [
      "            AR Model Forecast  ARMA Model Forecast\n",
      "1960-01-01          45.380177            45.810249\n",
      "1960-01-02          44.960852            45.818769\n",
      "1960-01-03          44.590676            45.728097\n",
      "1960-01-04          44.271699            45.564022\n",
      "1960-01-05          43.997395            45.347312\n"
     ]
    }
   ],
   "source": [
    "# Display the forecasts\n",
    "forecast_df = pd.DataFrame({\n",
    "    'AR Model Forecast': ar_forecast,\n",
    "    'ARMA Model Forecast': arma_forecast\n",
    "})\n",
    "\n",
    "print(forecast_df)"
   ]
  }
 ],
 "metadata": {
  "kernelspec": {
   "display_name": "Python 3 (ipykernel)",
   "language": "python",
   "name": "python3"
  },
  "language_info": {
   "codemirror_mode": {
    "name": "ipython",
    "version": 3
   },
   "file_extension": ".py",
   "mimetype": "text/x-python",
   "name": "python",
   "nbconvert_exporter": "python",
   "pygments_lexer": "ipython3",
   "version": "3.11.5"
  }
 },
 "nbformat": 4,
 "nbformat_minor": 5
}
